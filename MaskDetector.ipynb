{
 "cells": [
  {
   "cell_type": "code",
   "execution_count": 1,
   "metadata": {
    "scrolled": true
   },
   "outputs": [
    {
     "name": "stderr",
     "output_type": "stream",
     "text": [
      "Using TensorFlow backend.\n"
     ]
    }
   ],
   "source": []
  },
  {
   "cell_type": "code",
   "execution_count": 2,
   "metadata": {},
   "outputs": [
    {
     "name": "stdout",
     "output_type": "stream",
     "text": [
      "WARNING:tensorflow:From C:\\Users\\Varun\\AppData\\Local\\conda\\conda\\envs\\tensorflow\\lib\\site-packages\\tensorflow_core\\python\\ops\\resource_variable_ops.py:1630: calling BaseResourceVariable.__init__ (from tensorflow.python.ops.resource_variable_ops) with constraint is deprecated and will be removed in a future version.\n",
      "Instructions for updating:\n",
      "If using Keras pass *_constraint arguments to layers.\n",
      "WARNING:tensorflow:From C:\\Users\\Varun\\AppData\\Local\\conda\\conda\\envs\\tensorflow\\lib\\site-packages\\keras\\backend\\tensorflow_backend.py:4070: The name tf.nn.max_pool is deprecated. Please use tf.nn.max_pool2d instead.\n",
      "\n",
      "WARNING:tensorflow:From C:\\Users\\Varun\\AppData\\Local\\conda\\conda\\envs\\tensorflow\\lib\\site-packages\\keras\\backend\\tensorflow_backend.py:422: The name tf.global_variables is deprecated. Please use tf.compat.v1.global_variables instead.\n",
      "\n"
     ]
    }
   ],
   "source": [
    "model = load_model('model-018.model')\n",
    "\n",
    "face_clsfr=cv2.CascadeClassifier('haarcascade_frontalface_default.xml')\n",
    "\n",
    "source=cv2.VideoCapture(0)\n",
    "\n",
    "labels_dict={0:'MASK',1:'NO MASK'}\n",
    "color_dict={0:(0,255,0),1:(0,0,255)}"
   ]
  },
  {
   "cell_type": "code",
   "execution_count": 5,
   "metadata": {},
   "outputs": [],
   "source": [
    "from keras.models import load_model\n",
    "import cv2\n",
    "import numpy as np\n",
    "def detect_mask(lock):\n",
    "    model = load_model('model-018.model')\n",
    "\n",
    "    face_clsfr=cv2.CascadeClassifier('haarcascade_frontalface_default.xml')\n",
    "\n",
    "    source=cv2.VideoCapture(0)\n",
    "\n",
    "    labels_dict={0:'MASK',1:'NO MASK'}\n",
    "    color_dict={0:(0,255,0),1:(0,0,255)}\n",
    "    loop_count=0\n",
    "    label=null\n",
    "    while(True):\n",
    "\n",
    "        ret,img=source.read()\n",
    "        gray=cv2.cvtColor(img,cv2.COLOR_BGR2GRAY)\n",
    "        faces=face_clsfr.detectMultiScale(gray,1.3,5)  \n",
    "\n",
    "        for x,y,w,h in faces:\n",
    "    \n",
    "            face_img=gray[y:y+w,x:x+w]\n",
    "            resized=cv2.resize(face_img,(100,100))\n",
    "            normalized=resized/255.0\n",
    "            reshaped=np.reshape(normalized,(1,100,100,1))\n",
    "            result=model.predict(reshaped)\n",
    "\n",
    "            label=np.argmax(result,axis=1)[0]\n",
    "      \n",
    "            cv2.rectangle(img,(x,y),(x+w,y+h),color_dict[label],2)\n",
    "            cv2.rectangle(img,(x,y-40),(x+w,y),color_dict[label],-1)\n",
    "            cv2.putText(img, labels_dict[label], (x, y-10),cv2.FONT_HERSHEY_SIMPLEX,0.8,(255,255,255),2)\n",
    "            \n",
    "        \n",
    "        cv2.imshow('LIVE',img)\n",
    "        key=cv2.waitKey(1)\n",
    "        loop_count=loop_count+1\n",
    "        if(lock==1 and loop_count>=20):     # for check mask quick with 20 frames\n",
    "            eng = pyttsx3.init()\n",
    "            if(label==1):\n",
    "                eng.say(\"People with no mask detected\")\n",
    "                eng.runAndWait()\n",
    "                break\n",
    "            if(label==0):\n",
    "                eng.say(\"People with mask detected\")\n",
    "                eng.runAndWait()\n",
    "                break\n",
    "            if(label==null):\n",
    "                eng.say(\"People with mask detected\")\n",
    "                eng.runAndWait()\n",
    "                break\n",
    "                \n",
    "                \n",
    "        \n",
    "        if(lock==0 and label==1):\n",
    "            eng = pyttsx3.init()\n",
    "            eng.say(\"People with no mask detected\")\n",
    "            eng.runAndWait()\n",
    "            label=null\n",
    "            \n",
    "    \n",
    "        if(key==27):\n",
    "            break\n",
    "        \n",
    "    cv2.destroyAllWindows()\n",
    "    source.release()"
   ]
  },
  {
   "cell_type": "code",
   "execution_count": null,
   "metadata": {},
   "outputs": [],
   "source": []
  }
 ],
 "metadata": {
  "kernelspec": {
   "display_name": "Python 3",
   "language": "python",
   "name": "python3"
  },
  "language_info": {
   "codemirror_mode": {
    "name": "ipython",
    "version": 3
   },
   "file_extension": ".py",
   "mimetype": "text/x-python",
   "name": "python",
   "nbconvert_exporter": "python",
   "pygments_lexer": "ipython3",
   "version": "3.7.7"
  }
 },
 "nbformat": 4,
 "nbformat_minor": 2
}

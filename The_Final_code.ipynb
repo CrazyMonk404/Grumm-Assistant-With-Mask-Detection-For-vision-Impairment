{
 "cells": [
  {
   "cell_type": "code",
   "execution_count": 1,
   "metadata": {
    "scrolled": true
   },
   "outputs": [
    {
     "name": "stderr",
     "output_type": "stream",
     "text": [
      "Using TensorFlow backend.\n"
     ]
    }
   ],
   "source": [
    "import speech_recognition as sr\n",
    "import pyttsx3\n",
    "import webbrowser\n",
    "import requests\n",
    "from keras.models import load_model\n",
    "import cv2\n",
    "import numpy as np\n",
    "import pyttsx3\n",
    "import smtplib \n"
   ]
  },
  {
   "cell_type": "code",
   "execution_count": 2,
   "metadata": {},
   "outputs": [],
   "source": [
    "def detect_mask(lock):                                  #mask algorithm using model-018 for both fintie and infinite frames\n",
    "    model = load_model('model-018.model')\n",
    "\n",
    "    face_clsfr=cv2.CascadeClassifier('haarcascade_frontalface_default.xml')\n",
    "\n",
    "    source=cv2.VideoCapture(0)\n",
    "\n",
    "    labels_dict={0:'MASK',1:'NO MASK'}\n",
    "    color_dict={0:(0,255,0),1:(0,0,255)}\n",
    "    loop_count=0\n",
    "    label=2\n",
    "    while(True):\n",
    "\n",
    "        ret,img=source.read()\n",
    "        gray=cv2.cvtColor(img,cv2.COLOR_BGR2GRAY)\n",
    "        faces=face_clsfr.detectMultiScale(gray,1.3,5)  \n",
    "\n",
    "        for x,y,w,h in faces:\n",
    "    \n",
    "            face_img=gray[y:y+w,x:x+w]\n",
    "            resized=cv2.resize(face_img,(100,100))\n",
    "            normalized=resized/255.0\n",
    "            reshaped=np.reshape(normalized,(1,100,100,1))\n",
    "            result=model.predict(reshaped)\n",
    "\n",
    "            label=np.argmax(result,axis=1)[0]\n",
    "      \n",
    "            cv2.rectangle(img,(x,y),(x+w,y+h),color_dict[label],2)\n",
    "            cv2.rectangle(img,(x,y-40),(x+w,y),color_dict[label],-1)\n",
    "            cv2.putText(img, labels_dict[label], (x, y-10),cv2.FONT_HERSHEY_SIMPLEX,0.8,(255,255,255),2)\n",
    "            \n",
    "        \n",
    "        cv2.imshow('LIVE',img)\n",
    "        key=cv2.waitKey(1)\n",
    "        loop_count=loop_count+1\n",
    "        if(lock==1 and loop_count>=50):     # for check mask quick with 50 frames\n",
    "            eng = pyttsx3.init()\n",
    "            if(label==1):\n",
    "                eng.say(\"People with no mask detected\")\n",
    "                eng.runAndWait()\n",
    "                break\n",
    "            if(label==0):\n",
    "                eng.say(\"People with mask detected\")\n",
    "                eng.runAndWait()\n",
    "                break\n",
    "            if(label==2):\n",
    "                eng.say(\"No person detected \")\n",
    "                eng.runAndWait()\n",
    "                break\n",
    "            \n",
    "                \n",
    "                \n",
    "        \n",
    "        if(lock==0 and label==1):\n",
    "            eng = pyttsx3.init()\n",
    "            eng.say(\"People with no mask detected\")\n",
    "            eng.runAndWait()\n",
    "            label=2\n",
    "            if(key==27):\n",
    "                break\n",
    "            \n",
    "    \n",
    "        if(key==27):\n",
    "            break\n",
    "        \n",
    "    cv2.destroyAllWindows()\n",
    "    source.release()"
   ]
  },
  {
   "cell_type": "code",
   "execution_count": 3,
   "metadata": {},
   "outputs": [],
   "source": [
    "def danger_master():\n",
    "    ip_request = requests.get('https://get.geojs.io/v1/ip.json')\n",
    "    my_ip = ip_request.json()['ip']\n",
    "    geo_request = requests.get('https://get.geojs.io/v1/ip/geo/' +my_ip + '.json')\n",
    "    geo_data = geo_request.json()\n",
    "    print({'latitude': geo_data['latitude'], 'longitude': geo_data['longitude']})\n",
    "    \n",
    "        \n",
    "    #s = smtplib.SMTP('smtp.gmail.com', 587) \n",
    "    #s.starttls() \n",
    "\n",
    "    # Authentication \n",
    "    #s.login(\"xyz@gmail.com\", \"Sender password\") \n",
    "\n",
    "    # message to be sent \n",
    "    #message = \"This is a emergency mail regarding here is the coordinates too his/her location{'latitude': geo_data['latitude'], 'longitude': geo_data['longitude']}\"\n",
    "\n",
    "    # sending the mail \n",
    "    #s.sendmail(\"xyz@gmail.com\", \"abc@gmail.com\", message) \n",
    "\n",
    "    # terminating the session \n",
    "    #s.quit()"
   ]
  },
  {
   "cell_type": "code",
   "execution_count": 4,
   "metadata": {},
   "outputs": [],
   "source": [
    "r0=sr.Recognizer()\n",
    "r1=sr.Recognizer()\n",
    "r2=sr.Recognizer()\n",
    "r3=sr.Recognizer()"
   ]
  },
  {
   "cell_type": "code",
   "execution_count": 5,
   "metadata": {},
   "outputs": [],
   "source": [
    "with sr.Microphone() as Source:\n",
    "    engine = pyttsx3.init()\n",
    "    engine.say(\"Hello! I am grumm. At your service master.\")\n",
    "    \n",
    "    engine.runAndWait()\n",
    "    \n",
    "    r3.adjust_for_ambient_noise(Source,duration=0)\n",
    "    audio=r3.listen(Source)\n",
    "    \n",
    "    try:\n",
    "        if 'check mask' in r2.recognize_google(audio):\n",
    "            eng1 = pyttsx3.init()\n",
    "            eng1.say(\"Mask Check Activated.\")\n",
    "            eng1.runAndWait()\n",
    "                     # Algorithm of mask with 20 frames    \n",
    "            detect_mask(lock=1)                #lock=1 for making the while loop break after 50 frames\n",
    "        if 'mask mode' in r1.recognize_google(audio):\n",
    "            eng2 = pyttsx3.init()\n",
    "            eng2.say(\"Activating continious survailance mode.\")\n",
    "            eng2.runAndWait()\n",
    "            # Algorithm of mask with infinite frames \n",
    "            detect_mask(lock=0)                     #lock=0\n",
    "        \n",
    "        \n",
    "        if 'danger' in r2.recognize_google(audio):\n",
    "        #Algorithm to get the longitude and lattitude coordinates and mail it to emergency contacts andnearest police station \n",
    "           danger_master()\n",
    "           engine = pyttsx3.init()\n",
    "           engine.say(\"Mail sent sucessfully.\")\n",
    "           engine.runAndWait()\n",
    "        \n",
    "        \n",
    "        \n",
    "    except:\n",
    "        eng3 = pyttsx3.init()\n",
    "        eng3.say(\"Try again master.\")\n",
    "        \n",
    "\n",
    "        \n",
    "        \n",
    "        \n",
    "        "
   ]
  },
  {
   "cell_type": "code",
   "execution_count": null,
   "metadata": {
    "scrolled": true
   },
   "outputs": [],
   "source": []
  },
  {
   "cell_type": "code",
   "execution_count": null,
   "metadata": {},
   "outputs": [],
   "source": []
  },
  {
   "cell_type": "code",
   "execution_count": null,
   "metadata": {},
   "outputs": [],
   "source": []
  },
  {
   "cell_type": "code",
   "execution_count": null,
   "metadata": {},
   "outputs": [],
   "source": []
  },
  {
   "cell_type": "code",
   "execution_count": null,
   "metadata": {},
   "outputs": [],
   "source": []
  }
 ],
 "metadata": {
  "kernelspec": {
   "display_name": "Python 3",
   "language": "python",
   "name": "python3"
  },
  "language_info": {
   "codemirror_mode": {
    "name": "ipython",
    "version": 3
   },
   "file_extension": ".py",
   "mimetype": "text/x-python",
   "name": "python",
   "nbconvert_exporter": "python",
   "pygments_lexer": "ipython3",
   "version": "3.7.7"
  }
 },
 "nbformat": 4,
 "nbformat_minor": 4
}

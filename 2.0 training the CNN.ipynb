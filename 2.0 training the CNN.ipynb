{
 "cells": [
  {
   "cell_type": "code",
   "execution_count": 1,
   "metadata": {},
   "outputs": [],
   "source": [
    "import numpy as np\n",
    "\n",
    "data=np.load('data.npy')\n",
    "target=np.load('target.npy')"
   ]
  },
  {
   "cell_type": "code",
   "execution_count": 2,
   "metadata": {},
   "outputs": [
    {
     "name": "stderr",
     "output_type": "stream",
     "text": [
      "Using TensorFlow backend.\n"
     ]
    },
    {
     "name": "stdout",
     "output_type": "stream",
     "text": [
      "WARNING:tensorflow:From C:\\Users\\Varun\\AppData\\Local\\conda\\conda\\envs\\tensorflow\\lib\\site-packages\\tensorflow_core\\python\\ops\\resource_variable_ops.py:1630: calling BaseResourceVariable.__init__ (from tensorflow.python.ops.resource_variable_ops) with constraint is deprecated and will be removed in a future version.\n",
      "Instructions for updating:\n",
      "If using Keras pass *_constraint arguments to layers.\n",
      "WARNING:tensorflow:From C:\\Users\\Varun\\AppData\\Local\\conda\\conda\\envs\\tensorflow\\lib\\site-packages\\keras\\backend\\tensorflow_backend.py:4070: The name tf.nn.max_pool is deprecated. Please use tf.nn.max_pool2d instead.\n",
      "\n"
     ]
    }
   ],
   "source": [
    "from keras.models import Sequential\n",
    "from keras.layers import Dense,Activation,Flatten,Dropout\n",
    "from keras.layers import Conv2D,MaxPooling2D\n",
    "from keras.callbacks import ModelCheckpoint\n",
    "\n",
    "model=Sequential()\n",
    "\n",
    "model.add(Conv2D(200,(3,3),input_shape=data.shape[1:]))\n",
    "model.add(Activation('relu'))\n",
    "model.add(MaxPooling2D(pool_size=(2,2)))\n",
    "#The first CNN layer followed by Relu and MaxPooling layers\n",
    "\n",
    "model.add(Conv2D(100,(3,3)))\n",
    "model.add(Activation('relu'))\n",
    "model.add(MaxPooling2D(pool_size=(2,2)))\n",
    "#The second convolution layer followed by Relu and MaxPooling layers\n",
    "\n",
    "model.add(Flatten())\n",
    "model.add(Dropout(0.5))\n",
    "#Flatten layer to stack the output convolutions from second convolution layer\n",
    "model.add(Dense(50,activation='relu'))\n",
    "#Dense layer of 64 neurons\n",
    "model.add(Dense(2,activation='softmax'))\n",
    "#The Final layer with two outputs for two categories\n",
    "\n",
    "model.compile(loss='categorical_crossentropy',optimizer='adam',metrics=['accuracy'])"
   ]
  },
  {
   "cell_type": "code",
   "execution_count": 3,
   "metadata": {},
   "outputs": [],
   "source": [
    "from sklearn.model_selection import train_test_split\n",
    "\n",
    "train_data,test_data,train_target,test_target=train_test_split(data,target,test_size=0.1)"
   ]
  },
  {
   "cell_type": "code",
   "execution_count": 4,
   "metadata": {},
   "outputs": [
    {
     "name": "stdout",
     "output_type": "stream",
     "text": [
      "WARNING:tensorflow:From C:\\Users\\Varun\\AppData\\Local\\conda\\conda\\envs\\tensorflow\\lib\\site-packages\\keras\\backend\\tensorflow_backend.py:422: The name tf.global_variables is deprecated. Please use tf.compat.v1.global_variables instead.\n",
      "\n",
      "Train on 990 samples, validate on 248 samples\n",
      "Epoch 1/20\n",
      "990/990 [==============================] - 43s 43ms/step - loss: 0.6573 - accuracy: 0.6071 - val_loss: 0.5693 - val_accuracy: 0.6613\n",
      "Epoch 2/20\n",
      "990/990 [==============================] - 47s 48ms/step - loss: 0.4392 - accuracy: 0.7788 - val_loss: 0.3774 - val_accuracy: 0.8629\n",
      "Epoch 3/20\n",
      "990/990 [==============================] - 44s 45ms/step - loss: 0.2467 - accuracy: 0.9010 - val_loss: 0.3643 - val_accuracy: 0.8629\n",
      "Epoch 4/20\n",
      "990/990 [==============================] - 49s 49ms/step - loss: 0.1804 - accuracy: 0.9313 - val_loss: 0.2706 - val_accuracy: 0.9113\n",
      "Epoch 5/20\n",
      "990/990 [==============================] - 44s 44ms/step - loss: 0.1330 - accuracy: 0.9475 - val_loss: 0.3975 - val_accuracy: 0.8427\n",
      "Epoch 6/20\n",
      "990/990 [==============================] - 44s 45ms/step - loss: 0.1129 - accuracy: 0.9636 - val_loss: 0.4292 - val_accuracy: 0.8548\n",
      "Epoch 7/20\n",
      "990/990 [==============================] - 43s 44ms/step - loss: 0.0804 - accuracy: 0.9646 - val_loss: 0.2233 - val_accuracy: 0.9315\n",
      "Epoch 8/20\n",
      "990/990 [==============================] - 51s 51ms/step - loss: 0.0480 - accuracy: 0.9848 - val_loss: 0.2391 - val_accuracy: 0.9315\n",
      "Epoch 9/20\n",
      "990/990 [==============================] - 44s 44ms/step - loss: 0.0272 - accuracy: 0.9919 - val_loss: 0.2448 - val_accuracy: 0.9476\n",
      "Epoch 10/20\n",
      "990/990 [==============================] - 44s 44ms/step - loss: 0.0211 - accuracy: 0.9939 - val_loss: 0.2726 - val_accuracy: 0.9315\n",
      "Epoch 11/20\n",
      "990/990 [==============================] - 45s 45ms/step - loss: 0.0143 - accuracy: 0.9949 - val_loss: 0.3002 - val_accuracy: 0.9113\n",
      "Epoch 12/20\n",
      "990/990 [==============================] - 51s 52ms/step - loss: 0.0156 - accuracy: 0.9939 - val_loss: 0.3302 - val_accuracy: 0.9194\n",
      "Epoch 13/20\n",
      "990/990 [==============================] - 43s 44ms/step - loss: 0.0441 - accuracy: 0.9768 - val_loss: 0.3437 - val_accuracy: 0.8911\n",
      "Epoch 14/20\n",
      "990/990 [==============================] - 49s 49ms/step - loss: 0.0522 - accuracy: 0.9848 - val_loss: 0.3225 - val_accuracy: 0.9153\n",
      "Epoch 15/20\n",
      "990/990 [==============================] - 48s 48ms/step - loss: 0.0281 - accuracy: 0.9919 - val_loss: 0.2948 - val_accuracy: 0.9435\n",
      "Epoch 16/20\n",
      "990/990 [==============================] - 44s 45ms/step - loss: 0.0150 - accuracy: 0.9939 - val_loss: 0.2634 - val_accuracy: 0.9274\n",
      "Epoch 17/20\n",
      "990/990 [==============================] - 46s 46ms/step - loss: 0.0114 - accuracy: 0.9960 - val_loss: 0.2951 - val_accuracy: 0.9274\n",
      "Epoch 18/20\n",
      "990/990 [==============================] - 44s 44ms/step - loss: 0.0100 - accuracy: 0.9970 - val_loss: 0.2209 - val_accuracy: 0.9476\n",
      "Epoch 19/20\n",
      "990/990 [==============================] - 47s 48ms/step - loss: 0.0076 - accuracy: 0.9980 - val_loss: 0.2311 - val_accuracy: 0.9556\n",
      "Epoch 20/20\n",
      "990/990 [==============================] - 43s 43ms/step - loss: 0.0100 - accuracy: 0.9960 - val_loss: 0.2776 - val_accuracy: 0.9315\n"
     ]
    }
   ],
   "source": [
    "checkpoint = ModelCheckpoint('model-{epoch:03d}.model',monitor='val_loss',verbose=0,save_best_only=True,mode='auto')\n",
    "history=model.fit(train_data,train_target,epochs=20,callbacks=[checkpoint],validation_split=0.2)"
   ]
  },
  {
   "cell_type": "code",
   "execution_count": 6,
   "metadata": {},
   "outputs": [
    {
     "name": "stdout",
     "output_type": "stream",
     "text": [
      "138/138 [==============================] - 1s 11ms/step\n",
      "[0.16115411079448203, 0.9492753744125366]\n"
     ]
    }
   ],
   "source": [
    "print(model.evaluate(test_data,test_target))"
   ]
  },
  {
   "cell_type": "code",
   "execution_count": null,
   "metadata": {},
   "outputs": [],
   "source": []
  },
  {
   "cell_type": "code",
   "execution_count": null,
   "metadata": {},
   "outputs": [],
   "source": []
  },
  {
   "cell_type": "code",
   "execution_count": null,
   "metadata": {},
   "outputs": [],
   "source": []
  }
 ],
 "metadata": {
  "kernelspec": {
   "display_name": "Python 3",
   "language": "python",
   "name": "python3"
  },
  "language_info": {
   "codemirror_mode": {
    "name": "ipython",
    "version": 3
   },
   "file_extension": ".py",
   "mimetype": "text/x-python",
   "name": "python",
   "nbconvert_exporter": "python",
   "pygments_lexer": "ipython3",
   "version": "3.7.7"
  }
 },
 "nbformat": 4,
 "nbformat_minor": 2
}
